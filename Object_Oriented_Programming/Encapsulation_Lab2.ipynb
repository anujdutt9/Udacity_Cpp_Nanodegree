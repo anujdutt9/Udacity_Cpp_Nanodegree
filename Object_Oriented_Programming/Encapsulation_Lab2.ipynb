{
 "cells": [
  {
   "cell_type": "code",
   "execution_count": null,
   "metadata": {
    "graffitiCellId": "id_n5iexd2",
    "graffitiConfig": {
     "executeCellViaGraffiti": "0zvsutm_r0ukkqx"
    }
   },
   "outputs": [],
   "source": [
    "#include <iostream>\n",
    "#include <string>\n",
    "\n",
    "class BankAccount\n",
    "{\n",
    "  public:\n",
    "    int number;\n",
    "    std::string owner;\n",
    "    double funds;\n",
    "};\n",
    "\n",
    "int main(){\n",
    "    // TODO: instantiate and output a bank account\n",
    "    BankAccount account;\n",
    "    account.number = 123456789;\n",
    "    account.owner = \"David Silver\";\n",
    "    account.funds   = 1000000.01;\n",
    "        \n",
    "    std::cout << \"Account Information\\n\";\n",
    "    std::cout << \"-------------------\\n\";\n",
    "    std::cout << \"ID: \" << account.number << \"\\n\";\n",
    "    std::cout << \"Owner: \" << account.owner << \"\\n\";\n",
    "    std::cout << \"Funds: $\" << account.funds << \"\\n\";\n",
    "}"
   ]
  },
  {
   "cell_type": "markdown",
   "metadata": {
    "graffitiCellId": "id_0zvsutm"
   },
   "source": [
    "<span class=\"graffiti-highlight graffiti-id_0zvsutm-id_r0ukkqx\"><i></i><button>Compile & Run</button></span>&nbsp;\n",
    "<span class=\"graffiti-highlight graffiti-id_rtv3pzy-id_tizw7jz\"><i></i><button>Explain</button></span>"
   ]
  },
  {
   "cell_type": "markdown",
   "metadata": {
    "graffitiCellId": "id_4ra3ew2",
    "graffitiConfig": {
     "rows": 12,
     "terminalId": "id_4ra3ew2",
     "type": "terminal"
    }
   },
   "source": [
    "<i>Loading terminal (id_4ra3ew2), please wait...</i>"
   ]
  },
  {
   "cell_type": "markdown",
   "metadata": {
    "graffitiCellId": "id_10pzbi8"
   },
   "source": [
    "<span class=\"graffiti-highlight graffiti-id_10pzbi8-id_j3k4h29\"><i></i><button>Show Solution</button></span>"
   ]
  }
 ],
 "metadata": {
  "graffiti": {
   "firstAuthorId": "8978490740",
   "id": "id_g4m4i1f",
   "language": "EN"
  },
  "kernelspec": {
   "display_name": "C++17",
   "language": "C++17",
   "name": "xeus-cling-cpp17"
  },
  "language_info": {
   "codemirror_mode": "text/x-c++src",
   "file_extension": ".cpp",
   "mimetype": "text/x-c++src",
   "name": "c++",
   "version": "-std=c++17"
  }
 },
 "nbformat": 4,
 "nbformat_minor": 2
}
