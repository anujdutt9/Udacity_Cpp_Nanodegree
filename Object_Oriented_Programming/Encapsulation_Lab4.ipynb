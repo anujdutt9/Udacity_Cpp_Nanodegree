{
 "cells": [
  {
   "cell_type": "code",
   "execution_count": null,
   "metadata": {
    "graffitiCellId": "id_2eq82yp",
    "graffitiConfig": {
     "executeCellViaGraffiti": "66rm1m6_251f3fq"
    }
   },
   "outputs": [],
   "source": [
    "#include <cassert>\n",
    "#include <stdexcept>\n",
    "#include <iostream>\n",
    "\n",
    "// TODO: Define class Pyramid\n",
    "class Pyramid{\n",
    "\n",
    "    // public class members\n",
    "    public:\n",
    "    \n",
    "    // constructor\n",
    "    Pyramid(int l, int w, int h) : length_(l), width_(w), height_(h) {\n",
    "        Validate();\n",
    "    }\n",
    "\n",
    "    // accessors\n",
    "    int Length() const { return length_; }\n",
    "    int Height() const { return height_; }\n",
    "    int Width() const { return width_; }\n",
    "\n",
    "    // mutators\n",
    "    void Length(int l) {\n",
    "        length_ = l;\n",
    "        Validate();\n",
    "    }\n",
    "    void Height(int h) {\n",
    "        height_ = h;\n",
    "        Validate();\n",
    "    }\n",
    "    void Width(int w) {\n",
    "        width_ = w;\n",
    "        Validate();\n",
    "    }\n",
    "\n",
    "    // public Volume() function\n",
    "    public:\n",
    "    int Volume(){\n",
    "        return (length_ * width_ * height_) / 3;\n",
    "    }\n",
    "\n",
    "    // private class members\n",
    "    private:\n",
    "    int length_ {1};\n",
    "    int height_ {1};\n",
    "    int width_ {1};\n",
    "    void Validate() {\n",
    "        if (length_ <= 0 || width_ <= 0 || height_ <= 0)\n",
    "            throw std::invalid_argument(\"negative dimension\");\n",
    "    }\n",
    "};\n",
    "\n",
    "// Test\n",
    "int main() {\n",
    "  Pyramid pyramid(4, 5, 6);\n",
    "  assert(pyramid.Length() == 4);\n",
    "  assert(pyramid.Width() == 5);\n",
    "  assert(pyramid.Height() == 6);\n",
    "  assert(pyramid.Volume() == 40);\n",
    "\n",
    "  bool caught{false};\n",
    "  try {\n",
    "    Pyramid invalid(-1, 2, 3);\n",
    "    std::cout << invalid.Length() << invalid.Width() << invalid.Height() << \"Vol:\" << invalid.Volume() << std::endl;\n",
    "  } catch (...) {\n",
    "    caught = true;\n",
    "  }\n",
    "  assert(caught);\n",
    "}"
   ]
  },
  {
   "cell_type": "markdown",
   "metadata": {
    "graffitiCellId": "id_66rm1m6"
   },
   "source": [
    "<span class=\"graffiti-highlight graffiti-id_66rm1m6-id_251f3fq\"><i></i><button>Compile & Run</button></span>\n",
    "<span class=\"graffiti-highlight graffiti-id_a4lp7f3-id_1t82qn0\"><i></i><button>Explain</button></span>"
   ]
  },
  {
   "cell_type": "markdown",
   "metadata": {
    "graffitiCellId": "id_6962hjh",
    "graffitiConfig": {
     "rows": 6,
     "terminalId": "id_6962hjh",
     "type": "terminal"
    }
   },
   "source": [
    "<i>Loading terminal (id_6962hjh), please wait...</i>"
   ]
  }
 ],
 "metadata": {
  "graffiti": {
   "firstAuthorId": "8978490740",
   "id": "id_g4m4i1f",
   "language": "EN"
  },
  "kernelspec": {
   "display_name": "C++17",
   "language": "C++17",
   "name": "xeus-cling-cpp17"
  },
  "language_info": {
   "codemirror_mode": "text/x-c++src",
   "file_extension": ".cpp",
   "mimetype": "text/x-c++src",
   "name": "c++",
   "version": "-std=c++17"
  }
 },
 "nbformat": 4,
 "nbformat_minor": 2
}
